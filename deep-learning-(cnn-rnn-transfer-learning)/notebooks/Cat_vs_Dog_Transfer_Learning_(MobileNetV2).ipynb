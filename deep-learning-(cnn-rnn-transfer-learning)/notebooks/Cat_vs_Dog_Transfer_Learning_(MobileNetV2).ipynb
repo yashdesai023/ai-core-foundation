{
 "cells": [
  {
   "cell_type": "markdown",
   "id": "1370d634",
   "metadata": {},
   "source": [
    "## **Cat vs Dog Transfer Learning (MobileNetV2)**"
   ]
  },
  {
   "cell_type": "code",
   "execution_count": null,
   "id": "dc70fc9a",
   "metadata": {
    "vscode": {
     "languageId": "plaintext"
    }
   },
   "outputs": [],
   "source": [
    "from tensorflow.keras.applications import MobileNetV2\n",
    "from tensorflow.keras.preprocessing.image import ImageDataGenerator\n",
    "from tensorflow.keras.layers import GlobalAveragePooling2D, Dense\n",
    "from tensorflow.keras.models import Model\n",
    "\n",
    "base_model = MobileNetV2(weights='imagenet', include_top=False, input_shape=(128,128,3))\n",
    "base_model.trainable = False\n",
    "\n",
    "x = GlobalAveragePooling2D()(base_model.output)\n",
    "x = Dense(128, activation='relu')(x)\n",
    "output = Dense(1, activation='sigmoid')(x)\n",
    "model = Model(inputs=base_model.input, outputs=output)\n",
    "\n",
    "model.compile(optimizer='adam', loss='binary_crossentropy', metrics=['accuracy'])\n"
   ]
  }
 ],
 "metadata": {
  "language_info": {
   "name": "python"
  }
 },
 "nbformat": 4,
 "nbformat_minor": 5
}
