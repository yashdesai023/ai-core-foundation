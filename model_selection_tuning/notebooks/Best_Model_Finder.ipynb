{
 "cells": [
  {
   "cell_type": "markdown",
   "id": "86df8ab8",
   "metadata": {},
   "source": [
    "### 1. Setup and Imports"
   ]
  },
  {
   "cell_type": "code",
   "execution_count": 3,
   "id": "7b97bc51",
   "metadata": {},
   "outputs": [],
   "source": [
    "# Import all necessary libraries for data handling, modeling, evaluation, and visualization.\n",
    "\n",
    "import pandas as pd\n",
    "import numpy as np\n",
    "import matplotlib.pyplot as plt\n",
    "import seaborn as sns\n",
    "import joblib\n",
    "import json\n",
    "import os\n",
    "\n",
    "# Preprocessing\n",
    "from sklearn.model_selection import train_test_split\n",
    "from sklearn.preprocessing import StandardScaler, OneHotEncoder\n",
    "from sklearn.compose import ColumnTransformer\n",
    "from sklearn.pipeline import Pipeline\n",
    "from sklearn.impute import SimpleImputer\n",
    "\n",
    "# Models\n",
    "from sklearn.svm import SVC\n",
    "from sklearn.ensemble import RandomForestClassifier\n",
    "from xgboost import XGBClassifier\n",
    "\n",
    "# Tuning and Evaluation\n",
    "from sklearn.model_selection import GridSearchCV\n",
    "from sklearn.metrics import (\n",
    "    accuracy_score,\n",
    "    f1_score,\n",
    "    recall_score,\n",
    "    roc_auc_score,\n",
    "    confusion_matrix,\n",
    "    ConfusionMatrixDisplay\n",
    ")\n",
    "\n",
    "# Set plot style\n",
    "sns.set_style(\"whitegrid\")\n",
    "\n",
    "# Create directories if they don't exist\n",
    "os.makedirs('../models', exist_ok=True)\n",
    "os.makedirs('../outputs', exist_ok=True)"
   ]
  },
  {
   "cell_type": "markdown",
   "id": "bb3e6a8d",
   "metadata": {},
   "source": [
    "### 2. Data Preparation"
   ]
  },
  {
   "cell_type": "code",
   "execution_count": 4,
   "id": "e7f8d2b4",
   "metadata": {},
   "outputs": [],
   "source": [
    "# Load the dataset, identify feature types, and create a preprocessing pipeline.\n",
    "\n",
    "# Load data\n",
    "df = pd.read_csv('../data/heart_disease_uci.csv')"
   ]
  },
  {
   "cell_type": "code",
   "execution_count": 10,
   "id": "e55efe64",
   "metadata": {},
   "outputs": [
    {
     "name": "stdout",
     "output_type": "stream",
     "text": [
      "Dataset Head:\n"
     ]
    },
    {
     "data": {
      "text/html": [
       "<div>\n",
       "<style scoped>\n",
       "    .dataframe tbody tr th:only-of-type {\n",
       "        vertical-align: middle;\n",
       "    }\n",
       "\n",
       "    .dataframe tbody tr th {\n",
       "        vertical-align: top;\n",
       "    }\n",
       "\n",
       "    .dataframe thead th {\n",
       "        text-align: right;\n",
       "    }\n",
       "</style>\n",
       "<table border=\"1\" class=\"dataframe\">\n",
       "  <thead>\n",
       "    <tr style=\"text-align: right;\">\n",
       "      <th></th>\n",
       "      <th>id</th>\n",
       "      <th>age</th>\n",
       "      <th>sex</th>\n",
       "      <th>dataset</th>\n",
       "      <th>cp</th>\n",
       "      <th>trestbps</th>\n",
       "      <th>chol</th>\n",
       "      <th>fbs</th>\n",
       "      <th>restecg</th>\n",
       "      <th>thalch</th>\n",
       "      <th>exang</th>\n",
       "      <th>oldpeak</th>\n",
       "      <th>slope</th>\n",
       "      <th>ca</th>\n",
       "      <th>thal</th>\n",
       "      <th>num</th>\n",
       "    </tr>\n",
       "  </thead>\n",
       "  <tbody>\n",
       "    <tr>\n",
       "      <th>0</th>\n",
       "      <td>1</td>\n",
       "      <td>63</td>\n",
       "      <td>Male</td>\n",
       "      <td>Cleveland</td>\n",
       "      <td>typical angina</td>\n",
       "      <td>145.0</td>\n",
       "      <td>233.0</td>\n",
       "      <td>True</td>\n",
       "      <td>lv hypertrophy</td>\n",
       "      <td>150.0</td>\n",
       "      <td>False</td>\n",
       "      <td>2.3</td>\n",
       "      <td>downsloping</td>\n",
       "      <td>0.0</td>\n",
       "      <td>fixed defect</td>\n",
       "      <td>0</td>\n",
       "    </tr>\n",
       "    <tr>\n",
       "      <th>1</th>\n",
       "      <td>2</td>\n",
       "      <td>67</td>\n",
       "      <td>Male</td>\n",
       "      <td>Cleveland</td>\n",
       "      <td>asymptomatic</td>\n",
       "      <td>160.0</td>\n",
       "      <td>286.0</td>\n",
       "      <td>False</td>\n",
       "      <td>lv hypertrophy</td>\n",
       "      <td>108.0</td>\n",
       "      <td>True</td>\n",
       "      <td>1.5</td>\n",
       "      <td>flat</td>\n",
       "      <td>3.0</td>\n",
       "      <td>normal</td>\n",
       "      <td>2</td>\n",
       "    </tr>\n",
       "    <tr>\n",
       "      <th>2</th>\n",
       "      <td>3</td>\n",
       "      <td>67</td>\n",
       "      <td>Male</td>\n",
       "      <td>Cleveland</td>\n",
       "      <td>asymptomatic</td>\n",
       "      <td>120.0</td>\n",
       "      <td>229.0</td>\n",
       "      <td>False</td>\n",
       "      <td>lv hypertrophy</td>\n",
       "      <td>129.0</td>\n",
       "      <td>True</td>\n",
       "      <td>2.6</td>\n",
       "      <td>flat</td>\n",
       "      <td>2.0</td>\n",
       "      <td>reversable defect</td>\n",
       "      <td>1</td>\n",
       "    </tr>\n",
       "    <tr>\n",
       "      <th>3</th>\n",
       "      <td>4</td>\n",
       "      <td>37</td>\n",
       "      <td>Male</td>\n",
       "      <td>Cleveland</td>\n",
       "      <td>non-anginal</td>\n",
       "      <td>130.0</td>\n",
       "      <td>250.0</td>\n",
       "      <td>False</td>\n",
       "      <td>normal</td>\n",
       "      <td>187.0</td>\n",
       "      <td>False</td>\n",
       "      <td>3.5</td>\n",
       "      <td>downsloping</td>\n",
       "      <td>0.0</td>\n",
       "      <td>normal</td>\n",
       "      <td>0</td>\n",
       "    </tr>\n",
       "    <tr>\n",
       "      <th>4</th>\n",
       "      <td>5</td>\n",
       "      <td>41</td>\n",
       "      <td>Female</td>\n",
       "      <td>Cleveland</td>\n",
       "      <td>atypical angina</td>\n",
       "      <td>130.0</td>\n",
       "      <td>204.0</td>\n",
       "      <td>False</td>\n",
       "      <td>lv hypertrophy</td>\n",
       "      <td>172.0</td>\n",
       "      <td>False</td>\n",
       "      <td>1.4</td>\n",
       "      <td>upsloping</td>\n",
       "      <td>0.0</td>\n",
       "      <td>normal</td>\n",
       "      <td>0</td>\n",
       "    </tr>\n",
       "  </tbody>\n",
       "</table>\n",
       "</div>"
      ],
      "text/plain": [
       "   id  age     sex    dataset               cp  trestbps   chol    fbs  \\\n",
       "0   1   63    Male  Cleveland   typical angina     145.0  233.0   True   \n",
       "1   2   67    Male  Cleveland     asymptomatic     160.0  286.0  False   \n",
       "2   3   67    Male  Cleveland     asymptomatic     120.0  229.0  False   \n",
       "3   4   37    Male  Cleveland      non-anginal     130.0  250.0  False   \n",
       "4   5   41  Female  Cleveland  atypical angina     130.0  204.0  False   \n",
       "\n",
       "          restecg  thalch  exang  oldpeak        slope   ca  \\\n",
       "0  lv hypertrophy   150.0  False      2.3  downsloping  0.0   \n",
       "1  lv hypertrophy   108.0   True      1.5         flat  3.0   \n",
       "2  lv hypertrophy   129.0   True      2.6         flat  2.0   \n",
       "3          normal   187.0  False      3.5  downsloping  0.0   \n",
       "4  lv hypertrophy   172.0  False      1.4    upsloping  0.0   \n",
       "\n",
       "                thal  num  \n",
       "0       fixed defect    0  \n",
       "1             normal    2  \n",
       "2  reversable defect    1  \n",
       "3             normal    0  \n",
       "4             normal    0  "
      ]
     },
     "execution_count": 10,
     "metadata": {},
     "output_type": "execute_result"
    }
   ],
   "source": [
    "print(\"Dataset Head:\")\n",
    "df.head()"
   ]
  },
  {
   "cell_type": "code",
   "execution_count": 11,
   "id": "33dacd5e",
   "metadata": {},
   "outputs": [
    {
     "name": "stdout",
     "output_type": "stream",
     "text": [
      "\n",
      "Dataset Info:\n",
      "<class 'pandas.core.frame.DataFrame'>\n",
      "RangeIndex: 920 entries, 0 to 919\n",
      "Data columns (total 16 columns):\n",
      " #   Column    Non-Null Count  Dtype  \n",
      "---  ------    --------------  -----  \n",
      " 0   id        920 non-null    int64  \n",
      " 1   age       920 non-null    int64  \n",
      " 2   sex       920 non-null    object \n",
      " 3   dataset   920 non-null    object \n",
      " 4   cp        920 non-null    object \n",
      " 5   trestbps  861 non-null    float64\n",
      " 6   chol      890 non-null    float64\n",
      " 7   fbs       830 non-null    object \n",
      " 8   restecg   918 non-null    object \n",
      " 9   thalch    865 non-null    float64\n",
      " 10  exang     865 non-null    object \n",
      " 11  oldpeak   858 non-null    float64\n",
      " 12  slope     611 non-null    object \n",
      " 13  ca        309 non-null    float64\n",
      " 14  thal      434 non-null    object \n",
      " 15  num       920 non-null    int64  \n",
      "dtypes: float64(5), int64(3), object(8)\n",
      "memory usage: 115.1+ KB\n"
     ]
    }
   ],
   "source": [
    "print(\"\\nDataset Info:\")\n",
    "df.info()\n"
   ]
  },
  {
   "cell_type": "markdown",
   "id": "cdc51797",
   "metadata": {},
   "source": [
    "#### --- DATA CLEANING AND FEATURE ENGINEERING ---"
   ]
  },
  {
   "cell_type": "code",
   "execution_count": 12,
   "id": "a05040c5",
   "metadata": {},
   "outputs": [],
   "source": [
    "# Create the binary target variable: 0 for no disease, 1 for disease\n",
    "# The 'num' column indicates the presence of heart disease (values > 0)\n",
    "df['target'] = (df['num'] > 0).astype(int)"
   ]
  },
  {
   "cell_type": "code",
   "execution_count": 13,
   "id": "e2223f12",
   "metadata": {},
   "outputs": [],
   "source": [
    "# Drop original 'num' column and other irrelevant columns like 'id' and 'dataset'\n",
    "df = df.drop(['id', 'dataset', 'num'], axis=1)"
   ]
  },
  {
   "cell_type": "code",
   "execution_count": 14,
   "id": "7ef5fc17",
   "metadata": {},
   "outputs": [
    {
     "name": "stdout",
     "output_type": "stream",
     "text": [
      "Cleaned Dataset Head:\n"
     ]
    },
    {
     "data": {
      "text/html": [
       "<div>\n",
       "<style scoped>\n",
       "    .dataframe tbody tr th:only-of-type {\n",
       "        vertical-align: middle;\n",
       "    }\n",
       "\n",
       "    .dataframe tbody tr th {\n",
       "        vertical-align: top;\n",
       "    }\n",
       "\n",
       "    .dataframe thead th {\n",
       "        text-align: right;\n",
       "    }\n",
       "</style>\n",
       "<table border=\"1\" class=\"dataframe\">\n",
       "  <thead>\n",
       "    <tr style=\"text-align: right;\">\n",
       "      <th></th>\n",
       "      <th>age</th>\n",
       "      <th>sex</th>\n",
       "      <th>cp</th>\n",
       "      <th>trestbps</th>\n",
       "      <th>chol</th>\n",
       "      <th>fbs</th>\n",
       "      <th>restecg</th>\n",
       "      <th>thalch</th>\n",
       "      <th>exang</th>\n",
       "      <th>oldpeak</th>\n",
       "      <th>slope</th>\n",
       "      <th>ca</th>\n",
       "      <th>thal</th>\n",
       "      <th>target</th>\n",
       "    </tr>\n",
       "  </thead>\n",
       "  <tbody>\n",
       "    <tr>\n",
       "      <th>0</th>\n",
       "      <td>63</td>\n",
       "      <td>Male</td>\n",
       "      <td>typical angina</td>\n",
       "      <td>145.0</td>\n",
       "      <td>233.0</td>\n",
       "      <td>True</td>\n",
       "      <td>lv hypertrophy</td>\n",
       "      <td>150.0</td>\n",
       "      <td>False</td>\n",
       "      <td>2.3</td>\n",
       "      <td>downsloping</td>\n",
       "      <td>0.0</td>\n",
       "      <td>fixed defect</td>\n",
       "      <td>0</td>\n",
       "    </tr>\n",
       "    <tr>\n",
       "      <th>1</th>\n",
       "      <td>67</td>\n",
       "      <td>Male</td>\n",
       "      <td>asymptomatic</td>\n",
       "      <td>160.0</td>\n",
       "      <td>286.0</td>\n",
       "      <td>False</td>\n",
       "      <td>lv hypertrophy</td>\n",
       "      <td>108.0</td>\n",
       "      <td>True</td>\n",
       "      <td>1.5</td>\n",
       "      <td>flat</td>\n",
       "      <td>3.0</td>\n",
       "      <td>normal</td>\n",
       "      <td>1</td>\n",
       "    </tr>\n",
       "    <tr>\n",
       "      <th>2</th>\n",
       "      <td>67</td>\n",
       "      <td>Male</td>\n",
       "      <td>asymptomatic</td>\n",
       "      <td>120.0</td>\n",
       "      <td>229.0</td>\n",
       "      <td>False</td>\n",
       "      <td>lv hypertrophy</td>\n",
       "      <td>129.0</td>\n",
       "      <td>True</td>\n",
       "      <td>2.6</td>\n",
       "      <td>flat</td>\n",
       "      <td>2.0</td>\n",
       "      <td>reversable defect</td>\n",
       "      <td>1</td>\n",
       "    </tr>\n",
       "    <tr>\n",
       "      <th>3</th>\n",
       "      <td>37</td>\n",
       "      <td>Male</td>\n",
       "      <td>non-anginal</td>\n",
       "      <td>130.0</td>\n",
       "      <td>250.0</td>\n",
       "      <td>False</td>\n",
       "      <td>normal</td>\n",
       "      <td>187.0</td>\n",
       "      <td>False</td>\n",
       "      <td>3.5</td>\n",
       "      <td>downsloping</td>\n",
       "      <td>0.0</td>\n",
       "      <td>normal</td>\n",
       "      <td>0</td>\n",
       "    </tr>\n",
       "    <tr>\n",
       "      <th>4</th>\n",
       "      <td>41</td>\n",
       "      <td>Female</td>\n",
       "      <td>atypical angina</td>\n",
       "      <td>130.0</td>\n",
       "      <td>204.0</td>\n",
       "      <td>False</td>\n",
       "      <td>lv hypertrophy</td>\n",
       "      <td>172.0</td>\n",
       "      <td>False</td>\n",
       "      <td>1.4</td>\n",
       "      <td>upsloping</td>\n",
       "      <td>0.0</td>\n",
       "      <td>normal</td>\n",
       "      <td>0</td>\n",
       "    </tr>\n",
       "  </tbody>\n",
       "</table>\n",
       "</div>"
      ],
      "text/plain": [
       "   age     sex               cp  trestbps   chol    fbs         restecg  \\\n",
       "0   63    Male   typical angina     145.0  233.0   True  lv hypertrophy   \n",
       "1   67    Male     asymptomatic     160.0  286.0  False  lv hypertrophy   \n",
       "2   67    Male     asymptomatic     120.0  229.0  False  lv hypertrophy   \n",
       "3   37    Male      non-anginal     130.0  250.0  False          normal   \n",
       "4   41  Female  atypical angina     130.0  204.0  False  lv hypertrophy   \n",
       "\n",
       "   thalch  exang  oldpeak        slope   ca               thal  target  \n",
       "0   150.0  False      2.3  downsloping  0.0       fixed defect       0  \n",
       "1   108.0   True      1.5         flat  3.0             normal       1  \n",
       "2   129.0   True      2.6         flat  2.0  reversable defect       1  \n",
       "3   187.0  False      3.5  downsloping  0.0             normal       0  \n",
       "4   172.0  False      1.4    upsloping  0.0             normal       0  "
      ]
     },
     "execution_count": 14,
     "metadata": {},
     "output_type": "execute_result"
    }
   ],
   "source": [
    "print(\"Cleaned Dataset Head:\")\n",
    "df.head()"
   ]
  },
  {
   "cell_type": "code",
   "execution_count": 15,
   "id": "11f57443",
   "metadata": {},
   "outputs": [
    {
     "name": "stdout",
     "output_type": "stream",
     "text": [
      "\n",
      "Dataset Info after cleaning:\n",
      "<class 'pandas.core.frame.DataFrame'>\n",
      "RangeIndex: 920 entries, 0 to 919\n",
      "Data columns (total 14 columns):\n",
      " #   Column    Non-Null Count  Dtype  \n",
      "---  ------    --------------  -----  \n",
      " 0   age       920 non-null    int64  \n",
      " 1   sex       920 non-null    object \n",
      " 2   cp        920 non-null    object \n",
      " 3   trestbps  861 non-null    float64\n",
      " 4   chol      890 non-null    float64\n",
      " 5   fbs       830 non-null    object \n",
      " 6   restecg   918 non-null    object \n",
      " 7   thalch    865 non-null    float64\n",
      " 8   exang     865 non-null    object \n",
      " 9   oldpeak   858 non-null    float64\n",
      " 10  slope     611 non-null    object \n",
      " 11  ca        309 non-null    float64\n",
      " 12  thal      434 non-null    object \n",
      " 13  target    920 non-null    int32  \n",
      "dtypes: float64(5), int32(1), int64(1), object(7)\n",
      "memory usage: 97.2+ KB\n"
     ]
    }
   ],
   "source": [
    "\n",
    "print(\"\\nDataset Info after cleaning:\")\n",
    "df.info()"
   ]
  },
  {
   "cell_type": "code",
   "execution_count": 16,
   "id": "3b81c755",
   "metadata": {},
   "outputs": [],
   "source": [
    "# Define target and features\n",
    "X = df.drop('target', axis=1)\n",
    "y = df['target']"
   ]
  },
  {
   "cell_type": "code",
   "execution_count": 17,
   "id": "55e469cf",
   "metadata": {},
   "outputs": [],
   "source": [
    "# Manually define categorical and numerical features based on dataset knowledge\n",
    "# This is more robust than relying on dtypes.\n",
    "categorical_features = ['sex', 'cp', 'fbs', 'restecg', 'exang', 'slope', 'thal']\n",
    "numerical_features = ['age', 'trestbps', 'chol', 'thalch', 'oldpeak', 'ca']\n"
   ]
  },
  {
   "cell_type": "code",
   "execution_count": 18,
   "id": "c5c667e2",
   "metadata": {},
   "outputs": [
    {
     "name": "stdout",
     "output_type": "stream",
     "text": [
      "\n",
      "Categorical Features: ['sex', 'cp', 'fbs', 'restecg', 'exang', 'slope', 'thal']\n",
      "Numerical Features: ['age', 'trestbps', 'chol', 'thalch', 'oldpeak', 'ca']\n"
     ]
    }
   ],
   "source": [
    "print(f\"\\nCategorical Features: {categorical_features}\")\n",
    "print(f\"Numerical Features: {numerical_features}\")"
   ]
  },
  {
   "cell_type": "markdown",
   "id": "20b486b9",
   "metadata": {},
   "source": [
    "#### --- PREPROCESSING PIPELINES ---"
   ]
  },
  {
   "cell_type": "code",
   "execution_count": 19,
   "id": "ff8661cf",
   "metadata": {},
   "outputs": [],
   "source": [
    "# For numerical features, we impute missing values with the median and then scale.\n",
    "numerical_transformer = Pipeline(steps=[\n",
    "    ('imputer', SimpleImputer(strategy='median')),\n",
    "    ('scaler', StandardScaler())\n",
    "])"
   ]
  },
  {
   "cell_type": "code",
   "execution_count": 20,
   "id": "50924d7b",
   "metadata": {},
   "outputs": [],
   "source": [
    "# For categorical features, we impute missing values with the most frequent value and then one-hot encode.\n",
    "categorical_transformer = Pipeline(steps=[\n",
    "    ('imputer', SimpleImputer(strategy='most_frequent')),\n",
    "    ('onehot', OneHotEncoder(handle_unknown='ignore'))\n",
    "])"
   ]
  },
  {
   "cell_type": "code",
   "execution_count": 21,
   "id": "5965e4a1",
   "metadata": {},
   "outputs": [],
   "source": [
    "# Create a preprocessor object using ColumnTransformer\n",
    "preprocessor = ColumnTransformer(\n",
    "    transformers=[\n",
    "        ('num', numerical_transformer, numerical_features),\n",
    "        ('cat', categorical_transformer, categorical_features)\n",
    "    ],\n",
    "    remainder='passthrough'\n",
    ")"
   ]
  },
  {
   "cell_type": "code",
   "execution_count": null,
   "id": "4d502eeb",
   "metadata": {},
   "outputs": [],
   "source": [
    "# Split data into training and testing sets\n",
    "X_train, X_test, y_train, y_test = train_test_split(X, y, test_size=0.2, random_state=42, stratify=y)"
   ]
  },
  {
   "cell_type": "code",
   "execution_count": 23,
   "id": "1ee01fe7",
   "metadata": {},
   "outputs": [
    {
     "name": "stdout",
     "output_type": "stream",
     "text": [
      "\n",
      "Training set shape: (736, 13)\n",
      "Testing set shape: (184, 13)\n"
     ]
    }
   ],
   "source": [
    "print(f\"\\nTraining set shape: {X_train.shape}\")\n",
    "print(f\"Testing set shape: {X_test.shape}\")"
   ]
  },
  {
   "cell_type": "markdown",
   "id": "7d788d1a",
   "metadata": {},
   "source": [
    "### 3. Model Candidates and Hyperparameter Grids"
   ]
  },
  {
   "cell_type": "code",
   "execution_count": 24,
   "id": "6079b45a",
   "metadata": {},
   "outputs": [],
   "source": [
    "# Define the models we want to evaluate and the hyperparameter grids for tuning.\n",
    "\n",
    "models = {\n",
    "    \"SVM\": SVC(probability=True, random_state=42),\n",
    "    \"RandomForest\": RandomForestClassifier(random_state=42),\n",
    "    \"XGBoost\": XGBClassifier(eval_metric='logloss', use_label_encoder=False, random_state=42)\n",
    "}"
   ]
  },
  {
   "cell_type": "code",
   "execution_count": 25,
   "id": "98513ae3",
   "metadata": {},
   "outputs": [],
   "source": [
    "# Define parameter grids for GridSearchCV\n",
    "# Note: These grids are small for quick execution. For a real project, expand them.\n",
    "param_grids = {\n",
    "    \"SVM\": {\n",
    "        'model__C': [0.1, 1, 10],\n",
    "        'model__kernel': ['rbf'],\n",
    "        'model__gamma': ['scale']\n",
    "    },\n",
    "    \"RandomForest\": {\n",
    "        'model__n_estimators': [100, 200],\n",
    "        'model__max_depth': [10, 20],\n",
    "        'model__min_samples_split': [2, 5]\n",
    "    },\n",
    "    \"XGBoost\": {\n",
    "        'model__n_estimators': [100, 200],\n",
    "        'model__learning_rate': [0.05, 0.1],\n",
    "        'model__max_depth': [3, 5]\n",
    "    }\n",
    "}"
   ]
  },
  {
   "cell_type": "markdown",
   "id": "dc2b02f5",
   "metadata": {},
   "source": [
    "### 4. Cross-Validation and Hyperparameter Tuning"
   ]
  },
  {
   "cell_type": "code",
   "execution_count": 26,
   "id": "d3388bee",
   "metadata": {},
   "outputs": [
    {
     "name": "stdout",
     "output_type": "stream",
     "text": [
      "--- Tuning SVM ---\n",
      "Fitting 5 folds for each of 3 candidates, totalling 15 fits\n",
      "Best Score (AUC) for SVM: 0.8941\n",
      "Best Params for SVM: {'model__C': 1, 'model__gamma': 'scale', 'model__kernel': 'rbf'}\n",
      "\n",
      "--- Tuning RandomForest ---\n",
      "Fitting 5 folds for each of 8 candidates, totalling 40 fits\n",
      "Best Score (AUC) for RandomForest: 0.8787\n",
      "Best Params for RandomForest: {'model__max_depth': 10, 'model__min_samples_split': 5, 'model__n_estimators': 200}\n",
      "\n",
      "--- Tuning XGBoost ---\n",
      "Fitting 5 folds for each of 8 candidates, totalling 40 fits\n"
     ]
    },
    {
     "name": "stderr",
     "output_type": "stream",
     "text": [
      "e:\\Private\\AI-PROJECTS-PORTFOLIO-DOCS-ASSETS\\ALL-PROJECTS-PACKAGES\\ai-core-foundation\\venv\\Lib\\site-packages\\xgboost\\training.py:183: UserWarning: [17:59:09] WARNING: C:\\actions-runner\\_work\\xgboost\\xgboost\\src\\learner.cc:738: \n",
      "Parameters: { \"use_label_encoder\" } are not used.\n",
      "\n",
      "  bst.update(dtrain, iteration=i, fobj=obj)\n"
     ]
    },
    {
     "name": "stdout",
     "output_type": "stream",
     "text": [
      "Best Score (AUC) for XGBoost: 0.8811\n",
      "Best Params for XGBoost: {'model__learning_rate': 0.05, 'model__max_depth': 3, 'model__n_estimators': 100}\n",
      "\n"
     ]
    }
   ],
   "source": [
    "# Iterate through each model, create a full pipeline with the preprocessor,\n",
    "# and use GridSearchCV to find the best hyperparameters.\n",
    "\n",
    "best_estimators = {}\n",
    "tuning_results = []\n",
    "\n",
    "for name, model in models.items():\n",
    "    print(f\"--- Tuning {name} ---\")\n",
    "    \n",
    "    # Create the full pipeline\n",
    "    pipeline = Pipeline(steps=[\n",
    "        ('preprocessor', preprocessor),\n",
    "        ('model', model)\n",
    "    ])\n",
    "    \n",
    "    # Create GridSearchCV object\n",
    "    grid_search = GridSearchCV(\n",
    "        pipeline,\n",
    "        param_grids[name],\n",
    "        cv=5,\n",
    "        scoring='roc_auc', # Using AUC as the primary metric\n",
    "        n_jobs=-1,\n",
    "        verbose=1\n",
    "    )\n",
    "    \n",
    "    # Fit the grid search\n",
    "    grid_search.fit(X_train, y_train)\n",
    "    \n",
    "    # Store the best estimator\n",
    "    best_estimators[name] = grid_search.best_estimator_\n",
    "    \n",
    "    # Store tuning results\n",
    "    tuning_results.append({\n",
    "        \"Model\": name,\n",
    "        \"Best Score (AUC)\": grid_search.best_score_,\n",
    "        \"Best Params\": grid_search.best_params_\n",
    "    })\n",
    "    \n",
    "    print(f\"Best Score (AUC) for {name}: {grid_search.best_score_:.4f}\")\n",
    "    print(f\"Best Params for {name}: {grid_search.best_params_}\\n\")\n"
   ]
  },
  {
   "cell_type": "code",
   "execution_count": 27,
   "id": "4283df8e",
   "metadata": {},
   "outputs": [
    {
     "name": "stdout",
     "output_type": "stream",
     "text": [
      "\n",
      "Tuning results saved to '../outputs/tuning_results.csv'\n",
      "          Model  Best Score (AUC)  \\\n",
      "0           SVM          0.894088   \n",
      "1  RandomForest          0.878742   \n",
      "2       XGBoost          0.881119   \n",
      "\n",
      "                                         Best Params  \n",
      "0  {'model__C': 1, 'model__gamma': 'scale', 'mode...  \n",
      "1  {'model__max_depth': 10, 'model__min_samples_s...  \n",
      "2  {'model__learning_rate': 0.05, 'model__max_dep...  \n"
     ]
    }
   ],
   "source": [
    "# Save the tuning results to a CSV\n",
    "tuning_df = pd.DataFrame(tuning_results)\n",
    "tuning_df.to_csv('../outputs/tuning_results.csv', index=False)\n",
    "print(\"\\nTuning results saved to '../outputs/tuning_results.csv'\")\n",
    "print(tuning_df)"
   ]
  },
  {
   "cell_type": "markdown",
   "id": "1b1d4552",
   "metadata": {},
   "source": [
    "### 5. Performance Evaluation on Test Set"
   ]
  },
  {
   "cell_type": "code",
   "execution_count": 28,
   "id": "80f2238d",
   "metadata": {},
   "outputs": [],
   "source": [
    "# Evaluate the best-tuned models on the unseen test data.\n",
    "\n",
    "results = []\n",
    "for name, model in best_estimators.items():\n",
    "    y_pred = model.predict(X_test)\n",
    "    y_proba = model.predict_proba(X_test)[:, 1]\n",
    "    \n",
    "    # Calculate metrics\n",
    "    accuracy = accuracy_score(y_test, y_pred)\n",
    "    f1 = f1_score(y_test, y_pred)\n",
    "    recall = recall_score(y_test, y_pred)\n",
    "    auc = roc_auc_score(y_test, y_proba)\n",
    "    \n",
    "    results.append({\n",
    "        \"Model\": name,\n",
    "        \"Accuracy\": accuracy,\n",
    "        \"F1\": f1,\n",
    "        \"Recall\": recall,\n",
    "        \"AUC\": auc\n",
    "    })\n"
   ]
  },
  {
   "cell_type": "code",
   "execution_count": 29,
   "id": "2fae381e",
   "metadata": {},
   "outputs": [
    {
     "name": "stdout",
     "output_type": "stream",
     "text": [
      "\n",
      "--- Model Performance on Test Set ---\n",
      "          Model  Accuracy        F1    Recall       AUC\n",
      "0           SVM  0.842391  0.866359  0.921569  0.916667\n",
      "1  RandomForest  0.853261  0.870813  0.892157  0.922764\n",
      "2       XGBoost  0.869565  0.886792  0.921569  0.922764\n"
     ]
    }
   ],
   "source": [
    "# Convert results to a DataFrame for easy viewing and saving\n",
    "results_df = pd.DataFrame(results)\n",
    "print(\"\\n--- Model Performance on Test Set ---\")\n",
    "print(results_df)"
   ]
  },
  {
   "cell_type": "markdown",
   "id": "5f24c675",
   "metadata": {},
   "source": [
    "### 6. Identify and Save the Best Model"
   ]
  },
  {
   "cell_type": "code",
   "execution_count": 32,
   "id": "b24fd062",
   "metadata": {},
   "outputs": [
    {
     "name": "stdout",
     "output_type": "stream",
     "text": [
      "\n",
      "✅ Best Performing Model: RandomForest\n",
      "Best model saved to '../models/best_model.pkl'\n",
      "Model metrics saved to '../models/model_metrics.json'\n"
     ]
    }
   ],
   "source": [
    "# Select the best model based on the highest AUC score on the test set.\n",
    "\n",
    "best_model_name = results_df.sort_values(by='AUC', ascending=False).iloc[0]['Model']\n",
    "best_model = best_estimators[best_model_name]\n",
    "\n",
    "print(f\"\\n✅ Best Performing Model: {best_model_name}\")\n",
    "\n",
    "# Save the best model object\n",
    "model_path = '../models/best_model.pkl'\n",
    "joblib.dump(best_model, model_path)\n",
    "print(f\"Best model saved to '{model_path}'\")\n",
    "\n",
    "# Save the final metrics to a JSON file\n",
    "metrics_path = '../models/model_metrics.json'\n",
    "final_metrics_dict = results_df.to_dict(orient='records')\n",
    "with open(metrics_path, 'w') as f:\n",
    "    json.dump(final_metrics_dict, f, indent=4)\n",
    "print(f\"Model metrics saved to '{metrics_path}'\")\n"
   ]
  },
  {
   "cell_type": "markdown",
   "id": "86e2ec91",
   "metadata": {},
   "source": [
    "### 7. Visualize Results"
   ]
  },
  {
   "cell_type": "code",
   "execution_count": 34,
   "id": "0db387b9",
   "metadata": {},
   "outputs": [
    {
     "name": "stdout",
     "output_type": "stream",
     "text": [
      "\n",
      "Saved model comparison plot to 'outputs/model_comparison.png'\n"
     ]
    },
    {
     "data": {
      "image/png": "[encoded data removed]",
      "text/plain": [
       "<Figure size 1200x700 with 1 Axes>"
      ]
     },
     "metadata": {},
     "output_type": "display_data"
    },
    {
     "name": "stdout",
     "output_type": "stream",
     "text": [
      "Saved confusion matrix plot to 'outputs/confusion_matrix_best.png'\n"
     ]
    },
    {
     "data": {
      "text/plain": [
       "<Figure size 800x600 with 0 Axes>"
      ]
     },
     "metadata": {},
     "output_type": "display_data"
    },
    {
     "data": {
      "image/png": "[encoded data removed]",
      "text/plain": [
       "<Figure size 640x480 with 2 Axes>"
      ]
     },
     "metadata": {},
     "output_type": "display_data"
    },
    {
     "name": "stdout",
     "output_type": "stream",
     "text": [
      "\n",
      "--- Project Complete ---\n"
     ]
    }
   ],
   "source": [
    "# Plot 1: Model Comparison\n",
    "results_melted = results_df.melt(id_vars='Model', var_name='Metric', value_name='Score')\n",
    "\n",
    "plt.figure(figsize=(12, 7))\n",
    "sns.barplot(data=results_melted, x='Metric', y='Score', hue='Model', palette='viridis')\n",
    "plt.title('Model Performance Comparison', fontsize=16)\n",
    "plt.ylim(0, 1.0)\n",
    "plt.tight_layout()\n",
    "plt.savefig('../outputs/model_comparison.png')\n",
    "print(\"\\nSaved model comparison plot to 'outputs/model_comparison.png'\")\n",
    "plt.show()\n",
    "\n",
    "# Plot 2: Confusion Matrix for the Best Model\n",
    "plt.figure(figsize=(8, 6))\n",
    "y_pred_best = best_model.predict(X_test)\n",
    "cm = confusion_matrix(y_test, y_pred_best)\n",
    "disp = ConfusionMatrixDisplay(confusion_matrix=cm)\n",
    "disp.plot(cmap='Blues')\n",
    "plt.title(f'Confusion Matrix for {best_model_name}', fontsize=16)\n",
    "plt.savefig('../outputs/confusion_matrix_best.png')\n",
    "print(f\"Saved confusion matrix plot to 'outputs/confusion_matrix_best.png'\")\n",
    "plt.show()\n",
    "\n",
    "print(\"\\n--- Project Complete ---\")\n"
   ]
  },
  {
   "cell_type": "code",
   "execution_count": null,
   "id": "a9c5d02f",
   "metadata": {},
   "outputs": [],
   "source": []
  }
 ],
 "metadata": {
  "kernelspec": {
   "display_name": "venv",
   "language": "python",
   "name": "python3"
  },
  "language_info": {
   "codemirror_mode": {
    "name": "ipython",
    "version": 3
   },
   "file_extension": ".py",
   "mimetype": "text/x-python",
   "name": "python",
   "nbconvert_exporter": "python",
   "pygments_lexer": "ipython3",
   "version": "3.11.7"
  }
 },
 "nbformat": 4,
 "nbformat_minor": 5
}
